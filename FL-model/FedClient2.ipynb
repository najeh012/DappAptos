{
  "metadata": {
    "kernelspec": {
      "display_name": "Python 3",
      "name": "python3"
    },
    "language_info": {
      "pygments_lexer": "ipython3",
      "nbconvert_exporter": "python",
      "version": "3.6.4",
      "file_extension": ".py",
      "codemirror_mode": {
        "name": "ipython",
        "version": 3
      },
      "name": "python",
      "mimetype": "text/x-python"
    },
    "kaggle": {
      "accelerator": "gpu",
      "dataSources": [
        {
          "sourceId": 3319673,
          "sourceType": "datasetVersion",
          "datasetId": 1870444
        }
      ],
      "dockerImageVersionId": 30177,
      "isInternetEnabled": false,
      "language": "python",
      "sourceType": "notebook",
      "isGpuEnabled": true
    },
    "colab": {
      "provenance": [],
      "gpuType": "T4"
    },
    "accelerator": "GPU"
  },
  "nbformat_minor": 0,
  "nbformat": 4,
  "cells": [
    {
      "source": [
        "\n",
        "# IMPORTANT: RUN THIS CELL IN ORDER TO IMPORT YOUR KAGGLE DATA SOURCES\n",
        "# TO THE CORRECT LOCATION (/kaggle/input) IN YOUR NOTEBOOK,\n",
        "# THEN FEEL FREE TO DELETE THIS CELL.\n",
        "# NOTE: THIS NOTEBOOK ENVIRONMENT DIFFERS FROM KAGGLE'S PYTHON\n",
        "# ENVIRONMENT SO THERE MAY BE MISSING LIBRARIES USED BY YOUR\n",
        "# NOTEBOOK.\n",
        "\n",
        "import os\n",
        "import sys\n",
        "from tempfile import NamedTemporaryFile\n",
        "from urllib.request import urlopen\n",
        "from urllib.parse import unquote, urlparse\n",
        "from urllib.error import HTTPError\n",
        "from zipfile import ZipFile\n",
        "import tarfile\n",
        "import shutil\n",
        "\n",
        "CHUNK_SIZE = 40960\n",
        "DATA_SOURCE_MAPPING = 'edgeiiotset-cyber-security-dataset-of-iot-iiot:https%3A%2F%2Fstorage.googleapis.com%2Fkaggle-data-sets%2F1870444%2F3319673%2Fbundle%2Farchive.zip%3FX-Goog-Algorithm%3DGOOG4-RSA-SHA256%26X-Goog-Credential%3Dgcp-kaggle-com%2540kaggle-161607.iam.gserviceaccount.com%252F20240630%252Fauto%252Fstorage%252Fgoog4_request%26X-Goog-Date%3D20240630T103646Z%26X-Goog-Expires%3D259200%26X-Goog-SignedHeaders%3Dhost%26X-Goog-Signature%3D34bdab005412937928599b1780034c192443e65d5e581359d42c8927e2ff8343d51703326adcae59c04f003e2e3932c856e710f8cfe29446abc14306c700ddd5b1e0f19f4634baf36f6750c543f56db99f1ddf6b8f56adb76f0f0474dc275f98c341ca4edb51c61557302a95b197239391c458bd13e34405e0b8bcfd253d2f346fb65349aabf5073cb00c5300d2c19db3e69e446a12e7e92fbd4e8e430ddaa3eb36a55aa6239b09dca5b057de78bab7218cd048c505824a8704027b929cd8ca4379301e1f195eb7201e41d8a3bec093db323f4d82178891ec86ba6036415f62a70880abd42e2211141f07f3a4d11e8408f52034286befa04cd3eebdcc4eb87b6'\n",
        "\n",
        "KAGGLE_INPUT_PATH='/kaggle/input'\n",
        "KAGGLE_WORKING_PATH='/kaggle/working'\n",
        "KAGGLE_SYMLINK='kaggle'\n",
        "\n",
        "!umount /kaggle/input/ 2> /dev/null\n",
        "shutil.rmtree('/kaggle/input', ignore_errors=True)\n",
        "os.makedirs(KAGGLE_INPUT_PATH, 0o777, exist_ok=True)\n",
        "os.makedirs(KAGGLE_WORKING_PATH, 0o777, exist_ok=True)\n",
        "\n",
        "try:\n",
        "  os.symlink(KAGGLE_INPUT_PATH, os.path.join(\"..\", 'input'), target_is_directory=True)\n",
        "except FileExistsError:\n",
        "  pass\n",
        "try:\n",
        "  os.symlink(KAGGLE_WORKING_PATH, os.path.join(\"..\", 'working'), target_is_directory=True)\n",
        "except FileExistsError:\n",
        "  pass\n",
        "\n",
        "for data_source_mapping in DATA_SOURCE_MAPPING.split(','):\n",
        "    directory, download_url_encoded = data_source_mapping.split(':')\n",
        "    download_url = unquote(download_url_encoded)\n",
        "    filename = urlparse(download_url).path\n",
        "    destination_path = os.path.join(KAGGLE_INPUT_PATH, directory)\n",
        "    try:\n",
        "        with urlopen(download_url) as fileres, NamedTemporaryFile() as tfile:\n",
        "            total_length = fileres.headers['content-length']\n",
        "            print(f'Downloading {directory}, {total_length} bytes compressed')\n",
        "            dl = 0\n",
        "            data = fileres.read(CHUNK_SIZE)\n",
        "            while len(data) > 0:\n",
        "                dl += len(data)\n",
        "                tfile.write(data)\n",
        "                done = int(50 * dl / int(total_length))\n",
        "                sys.stdout.write(f\"\\r[{'=' * done}{' ' * (50-done)}] {dl} bytes downloaded\")\n",
        "                sys.stdout.flush()\n",
        "                data = fileres.read(CHUNK_SIZE)\n",
        "            if filename.endswith('.zip'):\n",
        "              with ZipFile(tfile) as zfile:\n",
        "                zfile.extractall(destination_path)\n",
        "            else:\n",
        "              with tarfile.open(tfile.name) as tarfile:\n",
        "                tarfile.extractall(destination_path)\n",
        "            print(f'\\nDownloaded and uncompressed: {directory}')\n",
        "    except HTTPError as e:\n",
        "        print(f'Failed to load (likely expired) {download_url} to path {destination_path}')\n",
        "        continue\n",
        "    except OSError as e:\n",
        "        print(f'Failed to load {download_url} to path {destination_path}')\n",
        "        continue\n",
        "\n",
        "print('Data source import complete.')\n"
      ],
      "metadata": {
        "id": "Y-UHP4TmuASq",
        "outputId": "9b4958bd-4993-47ff-cdd5-26987f2d97c0",
        "colab": {
          "base_uri": "https://localhost:8080/"
        }
      },
      "cell_type": "code",
      "outputs": [
        {
          "output_type": "stream",
          "name": "stdout",
          "text": [
            "Downloading edgeiiotset-cyber-security-dataset-of-iot-iiot, 1746605436 bytes compressed\n",
            "[==================================================] 1746605436 bytes downloaded\n",
            "Downloaded and uncompressed: edgeiiotset-cyber-security-dataset-of-iot-iiot\n",
            "Data source import complete.\n"
          ]
        }
      ],
      "execution_count": null
    },
    {
      "cell_type": "markdown",
      "source": [
        "# ***Clean Code***"
      ],
      "metadata": {
        "id": "y4yLh5SBzxvA"
      }
    },
    {
      "cell_type": "code",
      "source": [
        "# This Python 3 environment comes with many helpful analytics libraries installed\n",
        "# It is defined by the kaggle/python Docker image: https://github.com/kaggle/docker-python\n",
        "# For example, here's several helpful packages to load\n",
        "\n",
        "import numpy as np # linear algebra\n",
        "import pandas as pd # data processing, CSV file I/O (e.g. pd.read_csv)\n",
        "\n",
        "# Input data files are available in the read-only \"../input/\" directory\n",
        "# For example, running this (by clicking run or pressing Shift+Enter) will list all files under the input directory\n",
        "\n",
        "df = pd.read_csv('../input/edgeiiotset-cyber-security-dataset-of-iot-iiot/Edge-IIoTset dataset/Selected dataset for ML and DL/DNN-EdgeIIoT-dataset.csv', low_memory=False)\n",
        "pd.set_option('display.max_columns', None) # setting to print All columns from dataframe\n"
      ],
      "metadata": {
        "id": "weeKNWKlXMlU",
        "execution": {
          "iopub.status.busy": "2022-10-11T09:38:13.165877Z",
          "iopub.execute_input": "2022-10-11T09:38:13.166338Z",
          "iopub.status.idle": "2022-10-11T09:38:58.926363Z",
          "shell.execute_reply.started": "2022-10-11T09:38:13.166204Z",
          "shell.execute_reply": "2022-10-11T09:38:58.9256Z"
        },
        "trusted": true
      },
      "execution_count": null,
      "outputs": []
    },
    {
      "cell_type": "code",
      "source": [
        "# Tune datset & remove **** columns/rows\n",
        "\n",
        "from sklearn.utils import shuffle\n",
        "\n",
        "\n",
        "# List of columns to remove\n",
        "drop_columns = [\"frame.time\", \"ip.src_host\", \"ip.dst_host\", \"arp.src.proto_ipv4\",\"arp.dst.proto_ipv4\",\n",
        "\n",
        "         \"http.file_data\",\"http.request.full_uri\",\"icmp.transmit_timestamp\",\n",
        "\n",
        "         \"http.request.uri.query\", \"tcp.options\",\"tcp.payload\",\"tcp.srcport\",\n",
        "\n",
        "         \"tcp.dstport\", \"udp.port\", \"mqtt.msg\"]\n",
        "\n",
        "\n",
        "df.drop(drop_columns, axis=1, inplace=True) # drop colomns\n",
        "\n",
        "df.dropna(axis=0, how='any', inplace=True) # removes the rows that contains NULL value\n",
        "\n",
        "df.drop_duplicates(subset=None, keep=\"first\", inplace=True) # drop duplicated rown.\n",
        "\n",
        "#df = shuffle(df)  # function to shuffle dataset (mélanger)\n",
        "\n",
        "#print(df.isna().sum())\n",
        "\n",
        "print(df['Attack_type'].value_counts())"
      ],
      "metadata": {
        "id": "rOgc2rddXOhS",
        "outputId": "ceffb0b7-a0a6-4268-f18f-3c66a6046cca",
        "execution": {
          "iopub.status.busy": "2022-10-11T09:38:58.928164Z",
          "iopub.execute_input": "2022-10-11T09:38:58.928413Z",
          "iopub.status.idle": "2022-10-11T09:39:06.033294Z",
          "shell.execute_reply.started": "2022-10-11T09:38:58.92838Z",
          "shell.execute_reply": "2022-10-11T09:39:06.032522Z"
        },
        "trusted": true,
        "colab": {
          "base_uri": "https://localhost:8080/"
        }
      },
      "execution_count": null,
      "outputs": [
        {
          "output_type": "stream",
          "name": "stdout",
          "text": [
            "Attack_type\n",
            "Normal                   1363998\n",
            "DDoS_UDP                  121567\n",
            "DDoS_ICMP                  67939\n",
            "SQL_injection              50826\n",
            "DDoS_TCP                   50062\n",
            "Vulnerability_scanner      50026\n",
            "Password                   49933\n",
            "DDoS_HTTP                  48544\n",
            "Uploading                  36807\n",
            "Backdoor                   24026\n",
            "Port_Scanning              19977\n",
            "XSS                        15066\n",
            "Ransomware                  9689\n",
            "Fingerprinting               853\n",
            "MITM                         358\n",
            "Name: count, dtype: int64\n"
          ]
        }
      ]
    },
    {
      "cell_type": "code",
      "source": [
        "dfTest = df.copy()"
      ],
      "metadata": {
        "id": "8Kd73dhPeOTL",
        "execution": {
          "iopub.status.busy": "2022-10-11T09:39:06.034827Z",
          "iopub.execute_input": "2022-10-11T09:39:06.035072Z",
          "iopub.status.idle": "2022-10-11T09:39:06.317957Z",
          "shell.execute_reply.started": "2022-10-11T09:39:06.035038Z",
          "shell.execute_reply": "2022-10-11T09:39:06.31716Z"
        },
        "trusted": true
      },
      "execution_count": null,
      "outputs": []
    },
    {
      "cell_type": "code",
      "source": [
        "import numpy as np\n",
        "\n",
        "from sklearn.model_selection import train_test_split\n",
        "\n",
        "from sklearn.preprocessing import StandardScaler\n",
        "\n",
        "from sklearn import preprocessing\n",
        "\n",
        "def encode_text_dummy(df, name):\n",
        "\n",
        "    dummies = pd.get_dummies(df[name])\n",
        "\n",
        "    for x in dummies.columns:\n",
        "\n",
        "        dummy_name = f\"{name}-{x}\"\n",
        "\n",
        "        df[dummy_name] = dummies[x]\n",
        "\n",
        "    df.drop(name, axis=1, inplace=True)\n",
        "\n",
        "encode_text_dummy(dfTest,'http.request.method')\n",
        "\n",
        "encode_text_dummy(dfTest,'http.referer')\n",
        "\n",
        "encode_text_dummy(dfTest,\"http.request.version\")\n",
        "\n",
        "encode_text_dummy(dfTest,\"dns.qry.name.len\")\n",
        "\n",
        "encode_text_dummy(dfTest,\"mqtt.conack.flags\")\n",
        "\n",
        "encode_text_dummy(dfTest,\"mqtt.protoname\")\n",
        "\n",
        "encode_text_dummy(dfTest,\"mqtt.topic\")"
      ],
      "metadata": {
        "id": "JEA31aYceGbn",
        "execution": {
          "iopub.status.busy": "2022-10-11T09:39:06.319081Z",
          "iopub.execute_input": "2022-10-11T09:39:06.319339Z",
          "iopub.status.idle": "2022-10-11T09:39:09.887569Z",
          "shell.execute_reply.started": "2022-10-11T09:39:06.319305Z",
          "shell.execute_reply": "2022-10-11T09:39:09.886748Z"
        },
        "trusted": true
      },
      "execution_count": null,
      "outputs": []
    },
    {
      "cell_type": "code",
      "source": [
        "import seaborn as sns\n",
        "from matplotlib import pyplot as plt\n",
        "# make a plot number of labels\n",
        "sns.set(rc={'figure.figsize':(12, 6)})\n",
        "plt.xlabel('Attack Type')\n",
        "sns.set_theme()\n",
        "ax = sns.countplot(x='Attack_type', data=dfTest)\n",
        "ax.set(xlabel='Attack Type', ylabel='Number of Attacks')\n",
        "plt.xticks(rotation=90)\n",
        "plt.show()"
      ],
      "metadata": {
        "id": "u9-15PavuAS7",
        "colab": {
          "base_uri": "https://localhost:8080/",
          "height": 716
        },
        "outputId": "ea7d16a5-7514-4346-ea5a-3282cd344b4f"
      },
      "execution_count": null,
      "outputs": [
        {
          "output_type": "display_data",
          "data": {
            "text/plain": [
              "<Figure size 1200x600 with 1 Axes>"
            ],
            "image/png": "[encoded data removed]"
          },
          "metadata": {}
        }
      ]
    },
    {
      "cell_type": "code",
      "source": [
        "from sklearn.preprocessing import LabelEncoder\n",
        "\n",
        "dfdf = dfTest.copy()\n",
        "label_encoder = LabelEncoder()\n",
        "dfdf['Attack_type']= label_encoder.fit_transform(dfdf['Attack_type'])"
      ],
      "metadata": {
        "id": "FRxUJc_qeS50",
        "execution": {
          "iopub.status.busy": "2022-10-11T09:39:09.891502Z",
          "iopub.execute_input": "2022-10-11T09:39:09.891722Z",
          "iopub.status.idle": "2022-10-11T09:39:10.506749Z",
          "shell.execute_reply.started": "2022-10-11T09:39:09.891695Z",
          "shell.execute_reply": "2022-10-11T09:39:10.50595Z"
        },
        "trusted": true
      },
      "execution_count": null,
      "outputs": []
    },
    {
      "cell_type": "code",
      "source": [
        "attackName = dfTest['Attack_type'].unique()\n",
        "attackCode = dfdf['Attack_type'].unique()"
      ],
      "metadata": {
        "id": "ftkOZWcHebzj",
        "execution": {
          "iopub.status.busy": "2022-10-11T09:39:10.507954Z",
          "iopub.execute_input": "2022-10-11T09:39:10.508206Z",
          "iopub.status.idle": "2022-10-11T09:39:10.627486Z",
          "shell.execute_reply.started": "2022-10-11T09:39:10.508173Z",
          "shell.execute_reply": "2022-10-11T09:39:10.626846Z"
        },
        "trusted": true
      },
      "execution_count": null,
      "outputs": []
    },
    {
      "cell_type": "code",
      "source": [
        "for i in range (len(attackCode)):\n",
        "    print(\"code : {}\\t=>  {} \".format(attackCode[i],attackName[i]))"
      ],
      "metadata": {
        "id": "uTMToX9SefrY",
        "execution": {
          "iopub.status.busy": "2022-10-11T09:39:10.629133Z",
          "iopub.execute_input": "2022-10-11T09:39:10.629643Z",
          "iopub.status.idle": "2022-10-11T09:39:10.637357Z",
          "shell.execute_reply.started": "2022-10-11T09:39:10.629606Z",
          "shell.execute_reply": "2022-10-11T09:39:10.636509Z"
        },
        "trusted": true,
        "colab": {
          "base_uri": "https://localhost:8080/"
        },
        "outputId": "a27e220a-44d8-484a-8f9e-16ba0c3414a0"
      },
      "execution_count": null,
      "outputs": [
        {
          "output_type": "stream",
          "name": "stdout",
          "text": [
            "code : 7\t=>  Normal \n",
            "code : 6\t=>  MITM \n",
            "code : 12\t=>  Uploading \n",
            "code : 10\t=>  Ransomware \n",
            "code : 11\t=>  SQL_injection \n",
            "code : 1\t=>  DDoS_HTTP \n",
            "code : 3\t=>  DDoS_TCP \n",
            "code : 8\t=>  Password \n",
            "code : 9\t=>  Port_Scanning \n",
            "code : 13\t=>  Vulnerability_scanner \n",
            "code : 0\t=>  Backdoor \n",
            "code : 14\t=>  XSS \n",
            "code : 5\t=>  Fingerprinting \n",
            "code : 4\t=>  DDoS_UDP \n",
            "code : 2\t=>  DDoS_ICMP \n"
          ]
        }
      ]
    },
    {
      "cell_type": "code",
      "source": [
        "dfNormal = dfdf[dfdf[\"Attack_type\"]==7]\n",
        "dfDDoS_ICMP = dfdf[dfdf[\"Attack_type\"]==8]\n",
        "dfPassword = dfdf[dfdf[\"Attack_type\"]==2]\n",
        "dfDDoS_HTTP = dfdf[dfdf[\"Attack_type\"]==1]\n",
        "dfSQL_injection = dfdf[dfdf[\"Attack_type\"]==11]\n",
        "dfDDoS_TCP = dfdf[dfdf[\"Attack_type\"]==3]\n",
        "dfDDoS_UDP = dfdf[dfdf[\"Attack_type\"]==4]\n",
        "dfUploading = dfdf[dfdf[\"Attack_type\"]==12]\n",
        "dfPort_Scanning = dfdf[dfdf[\"Attack_type\"]==9]\n",
        "dfRansomware = dfdf[dfdf[\"Attack_type\"]==10]\n",
        "dfXSS = dfdf[dfdf[\"Attack_type\"]==14]\n",
        "dfBackdoor = dfdf[dfdf[\"Attack_type\"]==0]\n",
        "dfVulnerability_scanner = dfdf[dfdf[\"Attack_type\"]==13]\n",
        "dfFingerprinting = dfdf[dfdf[\"Attack_type\"]==5]\n",
        "dfMITM = dfdf[dfdf[\"Attack_type\"]==6]"
      ],
      "metadata": {
        "id": "6TlQsenfeilN",
        "execution": {
          "iopub.status.busy": "2022-10-11T09:39:10.638723Z",
          "iopub.execute_input": "2022-10-11T09:39:10.639021Z",
          "iopub.status.idle": "2022-10-11T09:39:11.589674Z",
          "shell.execute_reply.started": "2022-10-11T09:39:10.638989Z",
          "shell.execute_reply": "2022-10-11T09:39:11.58881Z"
        },
        "trusted": true
      },
      "execution_count": null,
      "outputs": []
    },
    {
      "cell_type": "code",
      "source": [
        "from sklearn.utils import resample\n",
        "\n",
        "Re_dfMITM = resample(dfMITM, n_samples=200000,random_state=123, replace=True)\n",
        "Re_dfDDoS_ICMP = resample(dfDDoS_ICMP, n_samples=200000,random_state=123, replace=True)\n",
        "Re_dfPassword = resample(dfPassword, n_samples=200000,random_state=123, replace=True)\n",
        "Re_dfDDoS_HTTP = resample(dfDDoS_HTTP, n_samples=200000,random_state=123, replace=True)\n",
        "Re_dfSQL_injection = resample(dfSQL_injection, n_samples=200000,random_state=123, replace=True)\n",
        "Re_dfDDoS_TCP = resample(dfDDoS_TCP, n_samples=200000,random_state=123, replace=True)\n",
        "Re_dfDDoS_UDP = resample(dfDDoS_UDP, n_samples=200000,random_state=123, replace=True)\n",
        "Re_dfUploading = resample(dfUploading, n_samples=200000,random_state=123, replace=True)\n",
        "Re_dfPort_Scanning = resample(dfPort_Scanning, n_samples=200000,random_state=123, replace=True)\n",
        "Re_dfRansomware = resample(dfRansomware, n_samples=200000,random_state=123, replace=True)\n",
        "Re_dfXSS = resample(dfXSS, n_samples=200000,random_state=123, replace=True)\n",
        "Re_dfBackdoor = resample(dfBackdoor, n_samples=200000,random_state=123, replace=True)\n",
        "Re_dfVulnerability_scanner = resample(dfVulnerability_scanner, n_samples=200000,random_state=123, replace=True)\n",
        "Re_dfFingerprinting = resample(dfFingerprinting, n_samples=200000,random_state=123, replace=True)\n"
      ],
      "metadata": {
        "id": "eujfwCc3ejNH",
        "execution": {
          "iopub.status.busy": "2022-10-11T09:39:11.590983Z",
          "iopub.execute_input": "2022-10-11T09:39:11.591496Z",
          "iopub.status.idle": "2022-10-11T09:39:13.057567Z",
          "shell.execute_reply.started": "2022-10-11T09:39:11.591444Z",
          "shell.execute_reply": "2022-10-11T09:39:13.056806Z"
        },
        "trusted": true
      },
      "execution_count": null,
      "outputs": []
    },
    {
      "cell_type": "code",
      "source": [
        "Re_dfNormal = dfNormal.sample(frac = 0.2)\n",
        "len(dfNormal)\n"
      ],
      "metadata": {
        "id": "4_M6nANbemb0",
        "execution": {
          "iopub.status.busy": "2022-10-11T09:39:13.058827Z",
          "iopub.execute_input": "2022-10-11T09:39:13.05908Z",
          "iopub.status.idle": "2022-10-11T09:39:13.378488Z",
          "shell.execute_reply.started": "2022-10-11T09:39:13.059048Z",
          "shell.execute_reply": "2022-10-11T09:39:13.377071Z"
        },
        "trusted": true,
        "colab": {
          "base_uri": "https://localhost:8080/"
        },
        "outputId": "3f09d4f0-8cc6-4785-95dd-54b873c2ecb5"
      },
      "execution_count": null,
      "outputs": [
        {
          "output_type": "execute_result",
          "data": {
            "text/plain": [
              "1363998"
            ]
          },
          "metadata": {},
          "execution_count": 12
        }
      ]
    },
    {
      "cell_type": "code",
      "source": [
        "dataset = pd.concat([Re_dfNormal,Re_dfMITM,Re_dfDDoS_ICMP,Re_dfPassword,\n",
        "                           Re_dfDDoS_HTTP,Re_dfSQL_injection,Re_dfDDoS_TCP ,\n",
        "                           Re_dfDDoS_UDP,Re_dfUploading ,Re_dfPort_Scanning,\n",
        "                           Re_dfRansomware,Re_dfXSS,Re_dfBackdoor,\n",
        "                           Re_dfVulnerability_scanner,Re_dfFingerprinting])"
      ],
      "metadata": {
        "id": "bJOeoUAGepN7",
        "execution": {
          "iopub.status.busy": "2022-10-11T09:39:13.379687Z",
          "iopub.execute_input": "2022-10-11T09:39:13.38002Z",
          "iopub.status.idle": "2022-10-11T09:39:13.797266Z",
          "shell.execute_reply.started": "2022-10-11T09:39:13.37998Z",
          "shell.execute_reply": "2022-10-11T09:39:13.796505Z"
        },
        "trusted": true
      },
      "execution_count": null,
      "outputs": []
    },
    {
      "cell_type": "code",
      "source": [
        "import seaborn as sns\n",
        "from matplotlib import pyplot as plt\n",
        "# make a plot number of labels\n",
        "sns.set(rc={'figure.figsize':(12, 6)})\n",
        "plt.xlabel('Attack Type')\n",
        "sns.set_theme()\n",
        "ax = sns.countplot(x='Attack_type', data=dataset)\n",
        "ax.set(xlabel='Attack Type', ylabel='Number of Attacks')\n",
        "plt.xticks(rotation=90)\n",
        "plt.show()"
      ],
      "metadata": {
        "id": "_5EZUR0oereD",
        "execution": {
          "iopub.status.busy": "2022-10-11T09:39:13.798436Z",
          "iopub.execute_input": "2022-10-11T09:39:13.799094Z",
          "iopub.status.idle": "2022-10-11T09:39:14.50985Z",
          "shell.execute_reply.started": "2022-10-11T09:39:13.799057Z",
          "shell.execute_reply": "2022-10-11T09:39:14.509145Z"
        },
        "trusted": true,
        "colab": {
          "base_uri": "https://localhost:8080/",
          "height": 555
        },
        "outputId": "24e02036-0e5f-4437-b180-c4a3eb0b5ad2"
      },
      "execution_count": null,
      "outputs": [
        {
          "output_type": "display_data",
          "data": {
            "text/plain": [
              "<Figure size 1200x600 with 1 Axes>"
            ],
            "image/png": "[encoded data removed]"
          },
          "metadata": {}
        }
      ]
    },
    {
      "cell_type": "code",
      "source": [
        "train_dfNormal = Re_dfNormal[:int(len(Re_dfNormal)*0.8)]\n",
        "test_dfNormal = Re_dfNormal[int(len(Re_dfNormal)*0.8):]\n",
        "print(len(test_dfNormal),len(train_dfNormal))\n",
        "\n",
        "\n",
        "\n",
        "train_dfMITM = Re_dfMITM[:int(len(Re_dfMITM)*0.8)]\n",
        "test_dfMITM = Re_dfMITM[int(len(Re_dfMITM)*0.8):]\n",
        "print(len(test_dfMITM),len(train_dfMITM))\n",
        "\n",
        "\n",
        "\n",
        "test_dfDDoS_ICMP = Re_dfDDoS_ICMP[int(len(Re_dfDDoS_ICMP)*0.8):]\n",
        "train_dfDDoS_ICMP = Re_dfDDoS_ICMP[:int(len(Re_dfDDoS_ICMP)*0.8)]\n",
        "print(len(test_dfDDoS_ICMP),len(train_dfDDoS_ICMP))\n",
        "\n",
        "\n",
        "test_dfPassword = Re_dfPassword[int(len(Re_dfPassword)*0.8):]\n",
        "train_dfPassword = Re_dfPassword[:int(len(Re_dfPassword)*0.8)]\n",
        "print(len(test_dfPassword),len(train_dfPassword))\n",
        "\n",
        "\n",
        "\n",
        "test_dfDDoS_HTTP = Re_dfDDoS_HTTP[int(len(Re_dfDDoS_HTTP)*0.8):]\n",
        "train_dfDDoS_HTTP = Re_dfDDoS_HTTP[:int(len(Re_dfDDoS_HTTP)*0.8)]\n",
        "print(len(test_dfDDoS_HTTP),len(train_dfDDoS_HTTP))\n",
        "\n",
        "\n",
        "\n",
        "test_dfSQL_injection = Re_dfSQL_injection[int(len(Re_dfSQL_injection)*0.8):]\n",
        "train_dfSQL_injection = Re_dfSQL_injection[:int(len(Re_dfSQL_injection)*0.8)]\n",
        "print(len(test_dfSQL_injection),len(train_dfSQL_injection))\n",
        "\n",
        "\n",
        "\n",
        "test_dfDDoS_TCP = Re_dfDDoS_TCP[int(len(Re_dfDDoS_TCP)*0.8):]\n",
        "train_dfDDoS_TCP = Re_dfDDoS_TCP[:int(len(Re_dfDDoS_TCP)*0.8)]\n",
        "print(len(test_dfDDoS_TCP),len(train_dfDDoS_TCP))\n",
        "\n",
        "\n",
        "\n",
        "test_dfDDoS_UDP = Re_dfDDoS_UDP[int(len(Re_dfDDoS_UDP)*0.8):]\n",
        "train_dfDDoS_UDP = Re_dfDDoS_UDP[:int(len(Re_dfDDoS_UDP)*0.8)]\n",
        "print(len(test_dfDDoS_UDP),len(train_dfDDoS_UDP))\n",
        "\n",
        "\n",
        "test_dfUploading = Re_dfUploading[int(len(Re_dfUploading)*0.8):]\n",
        "train_dfUploading = Re_dfUploading[:int(len(Re_dfUploading)*0.8)]\n",
        "print(len(test_dfUploading),len(train_dfUploading))\n",
        "\n",
        "test_dfPort_Scanning = Re_dfPort_Scanning[int(len(Re_dfPort_Scanning)*0.8):]\n",
        "train_dfPort_Scanning = Re_dfPort_Scanning[:int(len(Re_dfPort_Scanning)*0.8)]\n",
        "print(len(test_dfPort_Scanning),len(train_dfPort_Scanning))\n",
        "\n",
        "test_dfRansomware = Re_dfRansomware[int(len(Re_dfRansomware)*0.8):]\n",
        "train_dfRansomware = Re_dfRansomware[:int(len(Re_dfRansomware)*0.8)]\n",
        "print(len(test_dfRansomware),len(train_dfRansomware))\n",
        "\n",
        "test_dfXSS = Re_dfXSS[int(len(Re_dfXSS)*0.8):]\n",
        "train_dfXSS = Re_dfXSS[:int(len(Re_dfXSS)*0.8)]\n",
        "print(len(test_dfXSS),len(train_dfXSS))\n",
        "\n",
        "test_dfBackdoor = Re_dfBackdoor[int(len(Re_dfBackdoor)*0.8):]\n",
        "train_dfBackdoor = Re_dfBackdoor[:int(len(Re_dfBackdoor)*0.8)]\n",
        "print(len(test_dfBackdoor),len(train_dfBackdoor))\n",
        "\n",
        "test_dfVulnerability_scanner = Re_dfVulnerability_scanner[int(len(Re_dfVulnerability_scanner)*0.8):]\n",
        "train_dfVulnerability_scanner = Re_dfVulnerability_scanner[:int(len(Re_dfVulnerability_scanner)*0.8)]\n",
        "print(len(test_dfVulnerability_scanner),len(train_dfVulnerability_scanner))\n",
        "\n",
        "\n",
        "test_dfFingerprinting = Re_dfFingerprinting[int(len(Re_dfFingerprinting)*0.8):]\n",
        "train_dfFingerprinting = Re_dfFingerprinting[:int(len(Re_dfFingerprinting)*0.8)]\n",
        "print(len(test_dfFingerprinting),len(train_dfFingerprinting))\n"
      ],
      "metadata": {
        "id": "hAAHrYYOetSd",
        "execution": {
          "iopub.status.busy": "2022-10-11T09:39:14.511044Z",
          "iopub.execute_input": "2022-10-11T09:39:14.511507Z",
          "iopub.status.idle": "2022-10-11T09:39:14.535203Z",
          "shell.execute_reply.started": "2022-10-11T09:39:14.511471Z",
          "shell.execute_reply": "2022-10-11T09:39:14.534419Z"
        },
        "trusted": true
      },
      "execution_count": null,
      "outputs": []
    },
    {
      "cell_type": "code",
      "source": [
        "train = pd.concat([train_dfNormal,train_dfMITM,train_dfDDoS_ICMP,train_dfPassword,\n",
        "                           train_dfDDoS_HTTP,train_dfSQL_injection,train_dfDDoS_TCP ,\n",
        "                           train_dfDDoS_UDP,train_dfUploading ,train_dfPort_Scanning,\n",
        "                           train_dfRansomware,train_dfXSS,train_dfBackdoor,\n",
        "                           train_dfVulnerability_scanner,train_dfFingerprinting])\n",
        "print('done')\n",
        "test = pd.concat([test_dfNormal,test_dfMITM,test_dfDDoS_ICMP,test_dfPassword,\n",
        "                           test_dfDDoS_HTTP,test_dfSQL_injection,test_dfDDoS_TCP ,\n",
        "                           test_dfDDoS_UDP,test_dfUploading ,test_dfPort_Scanning,\n",
        "                           test_dfRansomware,test_dfXSS,test_dfBackdoor,\n",
        "                           test_dfVulnerability_scanner,test_dfFingerprinting])\n",
        "print('done')"
      ],
      "metadata": {
        "id": "sMu1Cq8XCvJC",
        "execution": {
          "iopub.status.busy": "2022-10-11T09:39:14.538399Z",
          "iopub.execute_input": "2022-10-11T09:39:14.538707Z",
          "iopub.status.idle": "2022-10-11T09:39:15.438101Z",
          "shell.execute_reply.started": "2022-10-11T09:39:14.538673Z",
          "shell.execute_reply": "2022-10-11T09:39:15.437159Z"
        },
        "trusted": true
      },
      "execution_count": null,
      "outputs": []
    },
    {
      "cell_type": "code",
      "source": [
        "len(train),len(test)"
      ],
      "metadata": {
        "id": "wlZkZTMRCyRO",
        "execution": {
          "iopub.status.busy": "2022-10-11T09:39:15.439446Z",
          "iopub.execute_input": "2022-10-11T09:39:15.43981Z",
          "iopub.status.idle": "2022-10-11T09:39:15.445603Z",
          "shell.execute_reply.started": "2022-10-11T09:39:15.439765Z",
          "shell.execute_reply": "2022-10-11T09:39:15.444912Z"
        },
        "trusted": true
      },
      "execution_count": null,
      "outputs": []
    },
    {
      "cell_type": "code",
      "source": [
        "X_train = train.drop([\"Attack_type\",\"Attack_label\"],axis=1)\n",
        "Y_train = train[\"Attack_type\"]\n",
        "\n",
        "X_val = test.drop([\"Attack_type\",\"Attack_label\"],axis=1)\n",
        "Y_val = test[\"Attack_type\"]"
      ],
      "metadata": {
        "id": "u3SzW7wpCz2o",
        "execution": {
          "iopub.status.busy": "2022-10-11T09:39:15.446969Z",
          "iopub.execute_input": "2022-10-11T09:39:15.447468Z",
          "iopub.status.idle": "2022-10-11T09:39:16.442043Z",
          "shell.execute_reply.started": "2022-10-11T09:39:15.447417Z",
          "shell.execute_reply": "2022-10-11T09:39:16.441273Z"
        },
        "trusted": true
      },
      "execution_count": null,
      "outputs": []
    },
    {
      "cell_type": "code",
      "source": [
        "from keras.utils.np_utils import to_categorical\n",
        "yy_train = to_categorical(Y_train, num_classes=15)\n",
        "yy_val = to_categorical(Y_val, num_classes=15)"
      ],
      "metadata": {
        "id": "YaB2Dp57C1Tg",
        "execution": {
          "iopub.status.busy": "2022-10-11T09:39:16.443417Z",
          "iopub.execute_input": "2022-10-11T09:39:16.443691Z",
          "iopub.status.idle": "2022-10-11T09:39:17.816312Z",
          "shell.execute_reply.started": "2022-10-11T09:39:16.443657Z",
          "shell.execute_reply": "2022-10-11T09:39:17.815306Z"
        },
        "trusted": true
      },
      "execution_count": null,
      "outputs": []
    },
    {
      "cell_type": "code",
      "source": [
        "print(X_train.shape)\n",
        "print(X_val.shape)\n",
        "print(yy_train.shape)\n",
        "print(yy_val.shape)"
      ],
      "metadata": {
        "id": "_CSl6O9fC28D",
        "execution": {
          "iopub.status.busy": "2022-10-11T09:39:17.817521Z",
          "iopub.status.idle": "2022-10-11T09:39:17.818105Z",
          "shell.execute_reply.started": "2022-10-11T09:39:17.817864Z",
          "shell.execute_reply": "2022-10-11T09:39:17.81789Z"
        },
        "trusted": true
      },
      "execution_count": null,
      "outputs": []
    },
    {
      "cell_type": "code",
      "source": [
        "# reshape the data for CNN\n",
        "X_train = X_train.values.reshape(len(X_train), X_train.shape[1], 1)\n",
        "X_val = X_val.values.reshape(len(X_val), X_val.shape[1], 1)\n",
        "X_train.shape, X_val.shape"
      ],
      "metadata": {
        "id": "WlYfiX6gC4bg",
        "execution": {
          "iopub.status.busy": "2022-10-11T09:39:17.819482Z",
          "iopub.status.idle": "2022-10-11T09:39:17.820054Z",
          "shell.execute_reply.started": "2022-10-11T09:39:17.819823Z",
          "shell.execute_reply": "2022-10-11T09:39:17.819849Z"
        },
        "trusted": true
      },
      "execution_count": null,
      "outputs": []
    },
    {
      "cell_type": "code",
      "source": [
        "import tensorflow as tf\n",
        "from keras import Sequential\n",
        "from keras.layers import Conv2D, Conv1D, MaxPooling2D, MaxPooling1D, Flatten, BatchNormalization, Dense\n",
        "\n",
        "# making the deep learning function\n",
        "def model():\n",
        "    model = Sequential()\n",
        "    model.add(Conv1D(filters=64, kernel_size=6, activation='relu',\n",
        "                    padding='same', input_shape=(95, 1)))\n",
        "    model.add(BatchNormalization())\n",
        "    # adding a pooling layer\n",
        "    model.add(MaxPooling1D(pool_size=(3), strides=2, padding='same'))\n",
        "\n",
        "\n",
        "    model.add(Conv1D(filters=64, kernel_size=6, activation='relu',\n",
        "                    padding='same', input_shape=(95, 1)))\n",
        "    model.add(BatchNormalization())\n",
        "    model.add(MaxPooling1D(pool_size=(3), strides=2, padding='same'))\n",
        "\n",
        "\n",
        "    model.add(Conv1D(filters=64, kernel_size=6, activation='relu',\n",
        "                    padding='same', input_shape=(95, 1)))\n",
        "    model.add(BatchNormalization())\n",
        "    model.add(MaxPooling1D(pool_size=(3), strides=2, padding='same'))\n",
        "\n",
        "\n",
        "    model.add(Flatten())\n",
        "    model.add(Dense(32, activation='relu'))\n",
        "    model.add(Dense(32, activation='relu'))\n",
        "    model.add(Dense(15, activation='softmax'))\n",
        "\n",
        "    model.compile(loss='categorical_crossentropy', optimizer='adam', metrics=['accuracy'])\n",
        "    return model"
      ],
      "metadata": {
        "id": "F_8o8mMCC5_g",
        "execution": {
          "iopub.status.busy": "2022-10-11T09:39:17.821146Z",
          "iopub.status.idle": "2022-10-11T09:39:17.821703Z",
          "shell.execute_reply.started": "2022-10-11T09:39:17.821475Z",
          "shell.execute_reply": "2022-10-11T09:39:17.821504Z"
        },
        "trusted": true
      },
      "execution_count": null,
      "outputs": []
    },
    {
      "cell_type": "code",
      "source": [
        "model = model()\n",
        "model.summary()"
      ],
      "metadata": {
        "id": "I3A-jmSlC83w",
        "execution": {
          "iopub.status.busy": "2022-10-11T09:39:17.822749Z",
          "iopub.status.idle": "2022-10-11T09:39:17.823315Z",
          "shell.execute_reply.started": "2022-10-11T09:39:17.823072Z",
          "shell.execute_reply": "2022-10-11T09:39:17.823101Z"
        },
        "trusted": true
      },
      "execution_count": null,
      "outputs": []
    },
    {
      "cell_type": "code",
      "source": [
        "from keras.callbacks import CSVLogger, ModelCheckpoint\n",
        "logger = CSVLogger('logs.csv', append=True)\n",
        "hist = model.fit(X_train, yy_train, epochs=50, batch_size=64,validation_data=(X_val, yy_val),callbacks=[logger])"
      ],
      "metadata": {
        "id": "tyXsZp2JC9aX",
        "execution": {
          "iopub.status.busy": "2022-10-11T09:39:17.824386Z",
          "iopub.status.idle": "2022-10-11T09:39:17.824966Z",
          "shell.execute_reply.started": "2022-10-11T09:39:17.824724Z",
          "shell.execute_reply": "2022-10-11T09:39:17.824752Z"
        },
        "trusted": true
      },
      "execution_count": null,
      "outputs": []
    },
    {
      "cell_type": "code",
      "source": [
        "# check history of model\n",
        "history = hist.history\n",
        "history.keys()"
      ],
      "metadata": {
        "id": "sKHfgCFGC_CJ",
        "execution": {
          "iopub.status.busy": "2022-10-11T09:39:17.826017Z",
          "iopub.status.idle": "2022-10-11T09:39:17.826574Z",
          "shell.execute_reply.started": "2022-10-11T09:39:17.826322Z",
          "shell.execute_reply": "2022-10-11T09:39:17.826351Z"
        },
        "trusted": true
      },
      "execution_count": null,
      "outputs": []
    },
    {
      "cell_type": "code",
      "source": [
        "epochs = range(1, len(history['loss']) + 1)\n",
        "acc = history['accuracy']\n",
        "loss = history['loss']\n",
        "val_acc = history['val_accuracy']\n",
        "val_loss = history['val_loss']\n",
        "\n",
        "# visualize training and val accuracy\n",
        "plt.figure(figsize=(10, 5))\n",
        "plt.title('Training and Validation Accuracy (CNN)')\n",
        "plt.xlabel('Epochs')\n",
        "plt.ylabel('Accuracy')\n",
        "plt.plot(epochs, acc, label='accuracy')\n",
        "plt.plot(epochs, val_acc, label='val_acc')\n",
        "plt.legend()\n",
        "\n",
        "# visualize train and val loss\n",
        "plt.figure(figsize=(10, 5))\n",
        "plt.title('Training and Validation Loss(CNN)')\n",
        "plt.xlabel('Epochs')\n",
        "plt.ylabel('Loss')\n",
        "plt.plot(epochs, loss, label='loss', color='g')\n",
        "plt.plot(epochs, val_loss, label='val_loss', color='r')\n",
        "plt.legend()"
      ],
      "metadata": {
        "id": "F_mrBbw8C1aT",
        "execution": {
          "iopub.status.busy": "2022-10-11T09:39:17.82764Z",
          "iopub.status.idle": "2022-10-11T09:39:17.828178Z",
          "shell.execute_reply.started": "2022-10-11T09:39:17.827958Z",
          "shell.execute_reply": "2022-10-11T09:39:17.827986Z"
        },
        "trusted": true
      },
      "execution_count": null,
      "outputs": []
    },
    {
      "cell_type": "code",
      "source": [
        "del model , hist , history ,acc ,loss ,val_acc ,val_loss ,logger"
      ],
      "metadata": {
        "id": "n2y-vzDTDDde",
        "execution": {
          "iopub.status.busy": "2022-10-11T09:39:17.829235Z",
          "iopub.status.idle": "2022-10-11T09:39:17.829795Z",
          "shell.execute_reply.started": "2022-10-11T09:39:17.829568Z",
          "shell.execute_reply": "2022-10-11T09:39:17.829597Z"
        },
        "trusted": true
      },
      "execution_count": null,
      "outputs": []
    }
  ]
}